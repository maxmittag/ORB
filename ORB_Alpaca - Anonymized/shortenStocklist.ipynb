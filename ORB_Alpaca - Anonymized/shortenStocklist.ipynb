{
 "cells": [
  {
   "cell_type": "code",
   "execution_count": 1,
   "metadata": {},
   "outputs": [],
   "source": [
    "import pandas as pd\n",
    "import yfinance as yf\n",
    "import warnings\n",
    "warnings.filterwarnings(\"ignore\", category=FutureWarning)"
   ]
  },
  {
   "cell_type": "code",
   "execution_count": 2,
   "metadata": {},
   "outputs": [],
   "source": [
    "# CSV einlesen\n",
    "df = pd.read_csv(\"stocklist_full.csv\", header=None, names=['Symbols'])\n",
    "\n",
    "# Liste für die gefilterten Symbole\n",
    "filtered_symbols = []"
   ]
  },
  {
   "cell_type": "code",
   "execution_count": null,
   "metadata": {},
   "outputs": [
    {
     "name": "stdout",
     "output_type": "stream",
     "text": [
      "0 /4606\n",
      "1 /4606\n",
      "2 /4606\n",
      "3 /4606\n",
      "4 /4606\n",
      "5 /4606\n",
      "6 /4606\n",
      "7 /4606\n",
      "8 /4606\n",
      "9 /4606\n",
      "10 /4606\n",
      "11 /4606\n",
      "12 /4606\n",
      "13 /4606\n",
      "14 /4606\n",
      "15 /4606\n",
      "16 /4606\n",
      "17 /4606\n",
      "18 /4606\n",
      "19 /4606\n",
      "20 /4606\n",
      "21 /4606\n",
      "22 /4606\n",
      "23 /4606\n",
      "24 /4606\n",
      "25 /4606\n",
      "26 /4606\n",
      "27 /4606\n",
      "28 /4606\n",
      "29 /4606\n",
      "30 /4606\n",
      "31 /4606\n",
      "32 /4606\n",
      "33 /4606\n",
      "34 /4606\n",
      "35 /4606\n",
      "36 /4606\n",
      "37 /4606\n",
      "38 /4606\n",
      "39 /4606\n",
      "40 /4606\n"
     ]
    },
    {
     "name": "stderr",
     "output_type": "stream",
     "text": [
      "HTTP Error 404: \n",
      "\n",
      "1 Failed download:\n",
      "['ABR^E']: YFPricesMissingError('possibly delisted; no price data found  (period=1d) (Yahoo error = \"No data found, symbol may be delisted\")')\n"
     ]
    },
    {
     "name": "stdout",
     "output_type": "stream",
     "text": [
      "ABR^E: Fehler (single positional indexer is out-of-bounds) - übersprungen.\n",
      "40 /4606\n"
     ]
    },
    {
     "name": "stderr",
     "output_type": "stream",
     "text": [
      "HTTP Error 404: \n",
      "\n",
      "1 Failed download:\n",
      "['ABR^F']: YFPricesMissingError('possibly delisted; no price data found  (period=1d) (Yahoo error = \"No data found, symbol may be delisted\")')\n"
     ]
    },
    {
     "name": "stdout",
     "output_type": "stream",
     "text": [
      "ABR^F: Fehler (single positional indexer is out-of-bounds) - übersprungen.\n",
      "40 /4606\n",
      "41 /4606\n",
      "42 /4606\n",
      "43 /4606\n",
      "44 /4606\n",
      "45 /4606\n",
      "46 /4606\n",
      "47 /4606\n",
      "48 /4606\n",
      "49 /4606\n",
      "50 /4606\n",
      "51 /4606\n",
      "52 /4606\n",
      "53 /4606\n",
      "54 /4606\n",
      "55 /4606\n",
      "56 /4606\n",
      "57 /4606\n",
      "58 /4606\n",
      "59 /4606\n",
      "60 /4606\n",
      "61 /4606\n",
      "62 /4606\n",
      "63 /4606\n",
      "64 /4606\n",
      "65 /4606\n",
      "66 /4606\n",
      "67 /4606\n",
      "68 /4606\n",
      "69 /4606\n",
      "70 /4606\n",
      "71 /4606\n",
      "72 /4606\n",
      "73 /4606\n",
      "74 /4606\n",
      "75 /4606\n",
      "76 /4606\n",
      "77 /4606\n",
      "78 /4606\n",
      "79 /4606\n"
     ]
    },
    {
     "name": "stderr",
     "output_type": "stream",
     "text": [
      "\n",
      "1 Failed download:\n",
      "['ACP^A']: YFPricesMissingError('possibly delisted; no price data found  (period=1d) (Yahoo error = \"No data found, symbol may be delisted\")')\n"
     ]
    },
    {
     "name": "stdout",
     "output_type": "stream",
     "text": [
      "ACP^A: Fehler (single positional indexer is out-of-bounds) - übersprungen.\n",
      "79 /4606\n",
      "80 /4606\n"
     ]
    },
    {
     "name": "stderr",
     "output_type": "stream",
     "text": [
      "\n",
      "1 Failed download:\n",
      "['ACR^C']: YFPricesMissingError('possibly delisted; no price data found  (period=1d) (Yahoo error = \"No data found, symbol may be delisted\")')\n"
     ]
    },
    {
     "name": "stdout",
     "output_type": "stream",
     "text": [
      "ACR^C: Fehler (single positional indexer is out-of-bounds) - übersprungen.\n",
      "80 /4606\n"
     ]
    },
    {
     "name": "stderr",
     "output_type": "stream",
     "text": [
      "\n",
      "1 Failed download:\n",
      "['ACR^D']: YFPricesMissingError('possibly delisted; no price data found  (period=1d) (Yahoo error = \"No data found, symbol may be delisted\")')\n"
     ]
    },
    {
     "name": "stdout",
     "output_type": "stream",
     "text": [
      "ACR^D: Fehler (single positional indexer is out-of-bounds) - übersprungen.\n",
      "80 /4606\n",
      "81 /4606\n",
      "82 /4606\n",
      "83 /4606\n",
      "84 /4606\n",
      "85 /4606\n",
      "86 /4606\n",
      "87 /4606\n",
      "88 /4606\n",
      "89 /4606\n",
      "90 /4606\n",
      "91 /4606\n",
      "92 /4606\n",
      "93 /4606\n",
      "94 /4606\n"
     ]
    },
    {
     "name": "stderr",
     "output_type": "stream",
     "text": [
      "\n",
      "1 Failed download:\n",
      "['ADC^A']: YFPricesMissingError('possibly delisted; no price data found  (period=1d) (Yahoo error = \"No data found, symbol may be delisted\")')\n"
     ]
    },
    {
     "name": "stdout",
     "output_type": "stream",
     "text": [
      "ADC^A: Fehler (single positional indexer is out-of-bounds) - übersprungen.\n",
      "94 /4606\n",
      "95 /4606\n",
      "96 /4606\n",
      "97 /4606\n",
      "98 /4606\n",
      "99 /4606\n",
      "100 /4606\n",
      "101 /4606\n",
      "102 /4606\n",
      "103 /4606\n",
      "104 /4606\n",
      "105 /4606\n",
      "106 /4606\n",
      "107 /4606\n",
      "108 /4606\n",
      "109 /4606\n",
      "110 /4606\n",
      "111 /4606\n",
      "112 /4606\n",
      "113 /4606\n",
      "114 /4606\n",
      "115 /4606\n"
     ]
    }
   ],
   "source": [
    "i = 0\n",
    "# Jede Zeile durchgehen\n",
    "for symbol in df[\"Symbols\"]:\n",
    "    print(i, \"/4606\")\n",
    "    try:\n",
    "        hist = yf.download(symbol, period=\"1d\", interval=\"1d\", progress=False)[['Close']]\n",
    "        # Vortagesschlusskurs holen\n",
    "        if(hist[\"Close\"].iloc[0].sum()>=3.5):\n",
    "            filtered_symbols.append(symbol)\n",
    "    except Exception as e:\n",
    "        print(f\"{symbol}: Fehler ({e}) - übersprungen.\")\n",
    "        continue\n",
    "    i+=1"
   ]
  },
  {
   "cell_type": "code",
   "execution_count": null,
   "metadata": {},
   "outputs": [],
   "source": [
    "# Als DataFrame speichern\n",
    "filtered_df = pd.DataFrame({\"Symbol\": filtered_symbols})\n",
    "\n",
    "# Neue CSV schreiben\n",
    "filtered_df.to_csv(\"stocklist_full.csv\", index=False)"
   ]
  }
 ],
 "metadata": {
  "kernelspec": {
   "display_name": "Python 3",
   "language": "python",
   "name": "python3"
  },
  "language_info": {
   "codemirror_mode": {
    "name": "ipython",
    "version": 3
   },
   "file_extension": ".py",
   "mimetype": "text/x-python",
   "name": "python",
   "nbconvert_exporter": "python",
   "pygments_lexer": "ipython3",
   "version": "3.9.13"
  }
 },
 "nbformat": 4,
 "nbformat_minor": 2
}
